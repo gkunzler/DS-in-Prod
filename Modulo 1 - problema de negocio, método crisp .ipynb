{
 "cells": [
  {
   "cell_type": "code",
   "execution_count": 1,
   "id": "56b1bf71",
   "metadata": {
    "code_folding": []
   },
   "outputs": [],
   "source": [
    "#estudos"
   ]
  },
  {
   "cell_type": "code",
   "execution_count": 2,
   "id": "f393d009",
   "metadata": {
    "code_folding": []
   },
   "outputs": [],
   "source": [
    "#passo a passo projeto em ciencia de dados"
   ]
  },
  {
   "cell_type": "raw",
   "id": "1dc7f5fe",
   "metadata": {},
   "source": [
    "Aula 1:\n",
    "descrição dos dados - descrever dados\n",
    "feature engineering - derivar features do dataset original\n",
    "filtragem de variaveis - viés de negócio. filtrar variaveis relevantes\n",
    "analise exploratoria dos dados (EDA) - visão da empresa através dos dados. daqui saem os insights\n",
    "preparação dos dados - preparar dados para algoritimos\n",
    "seleção de variaveis com algoritimo - selecionar variaveis relevantes baseado em algoritimo\n",
    "modelos de machine learning - implementaramos 5 modelos de machine learning, e verificar aquele que performou melhor\n",
    "hyperparameter fine turning - seleciona os melhores parametros do modelo para maximizar performance, reduzir erro\n",
    "interpretação e tradução do erro - entender performance do modelo, considerando o erro que ele gera. traduzir em resultado de negócio.\n",
    "deploy do modelo em produção"
   ]
  },
  {
   "cell_type": "raw",
   "id": "9db72c30",
   "metadata": {},
   "source": [
    "Aula 2:\n",
    "    problema: previsão de vendas.\n",
    "Entendendo o problema:\n",
    "    - qual o contexto? porque voce quer a prvisão de vendas? \n",
    "    R: ocorreu reunião de resultados mensais, e CFO solicitou a demanda\n",
    "    - identificar causa raiz - porque fazer a previsão? \n",
    "    R: será feita uma reforma nas lojas, e CFO quer adiantar parte da receita para fazer a reforma. \n",
    "    - quem é o dono do problema? quem tem a dor do problema? \n",
    "    R: CFO\n",
    "    - o formato da solução - identificar granularidade - por loja, por produto, categoria, mensal, semanal, valor, quantidade?\n",
    "                             R: dia, loja \n",
    "                             identificar tipo de problema: classificação, clusterizaão, previsão, regressão ? \n",
    "                             R: previsão de demanda/predição\n",
    "                             Potencias metodos:\n",
    "                             R: time series, regressão, redes neurais, deep learning\n",
    "                             formato de entrega: dashboard, csv, imagem, anexo de email?\n",
    "                             R: predições acessadas via celular\n",
    "                                \n",
    "    Dados do Kaggle\n",
    "    Rossman  - farmacias\n",
    "    Rossmann operates over 3,000 drug stores in 7 European countries. Currently, \n",
    "    Rossmann store managers are tasked with predicting their daily sales for up to six weeks in advance. \n",
    "    Store sales are influenced by many factors, including promotions, competition, school and state holidays,\n",
    "    seasonality, and locality. With thousands of individual managers predicting sales based on their unique circumstances,\n",
    "    the accuracy of results can be quite varied.\n",
    "    "
   ]
  },
  {
   "cell_type": "raw",
   "id": "22e79b14",
   "metadata": {},
   "source": [
    "Aula 4:\n",
    "    Método CRISP - DS\n",
    "    Método de gerenciamento de projetos pra ciencia de dados\n",
    "    Cross Industry Process - Data Science\n",
    "    originalmente pra industrias\n",
    "    método ciclo - vai passar varias vezes pela mesma etapa durante o projeto\n",
    "    ajuda a identificar problemas mais rapido, ao passar rapidamente por todas as etapas. \n",
    "    Revisita-las para melhora-las\n",
    "    a cada ciclo do crisp, tem uma soluçao end to end\n",
    "    \n",
    "    \n",
    "    Etapas:\n",
    "        Questão de Negócio\n",
    "        Entendimento do Negócio\n",
    "        coleta dos dados (sql, requisição de API)\n",
    "        limpeza dos dados \n",
    "        exploração dos dados (entender variaveis que impactam os resultados)\n",
    "        modelagem dos dados (separar dados em treino e teste, encoding de variaveis categóricas para tranformalas em numéricas,\n",
    "                            transformação de variavel resposta)\n",
    "        algoritimos de machine learning (aplicar algoritimos sobre os dados)\n",
    "        avaliação do algoritimo (calcular map, curva roc, acuracia, tabela verdade)\n",
    "        modelo em produção"
   ]
  },
  {
   "cell_type": "code",
   "execution_count": null,
   "id": "264b023a",
   "metadata": {},
   "outputs": [],
   "source": []
  }
 ],
 "metadata": {
  "kernelspec": {
   "display_name": "Python 3 (ipykernel)",
   "language": "python",
   "name": "python3"
  },
  "language_info": {
   "codemirror_mode": {
    "name": "ipython",
    "version": 3
   },
   "file_extension": ".py",
   "mimetype": "text/x-python",
   "name": "python",
   "nbconvert_exporter": "python",
   "pygments_lexer": "ipython3",
   "version": "3.8.10"
  }
 },
 "nbformat": 4,
 "nbformat_minor": 5
}
